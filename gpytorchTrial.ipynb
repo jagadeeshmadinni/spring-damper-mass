{
 "cells": [
  {
   "cell_type": "code",
   "execution_count": 1,
   "id": "230d4194-c911-4b14-8ac7-7ba7aa087433",
   "metadata": {
    "tags": []
   },
   "outputs": [],
   "source": [
    "import torch\n",
    "import math\n",
    "import matplotlib.pyplot as plt\n",
    "import gpytorch\n",
    "%matplotlib inline\n",
    "%load_ext autoreload\n",
    "%autoreload 2\n",
    "import time"
   ]
  },
  {
   "cell_type": "code",
   "execution_count": 2,
   "id": "2ed4b537-7d42-4692-a1b6-a261215d9a80",
   "metadata": {
    "tags": []
   },
   "outputs": [
    {
     "name": "stderr",
     "output_type": "stream",
     "text": [
      "C:\\Users\\jmadinn\\AppData\\Local\\Temp\\ipykernel_27552\\2537344704.py:5: DeprecationWarning: \n",
      "Pyarrow will become a required dependency of pandas in the next major release of pandas (pandas 3.0),\n",
      "(to allow more performant data types, such as the Arrow string type, and better interoperability with other libraries)\n",
      "but was not found to be installed on your system.\n",
      "If this would cause problems for you,\n",
      "please provide us feedback at https://github.com/pandas-dev/pandas/issues/54466\n",
      "        \n",
      "  import pandas as pd\n"
     ]
    }
   ],
   "source": [
    "from mpl_toolkits.mplot3d import Axes3D\n",
    "import numpy as np\n",
    "from matplotlib import cm\n",
    "from matplotlib.ticker import LinearLocator\n",
    "import pandas as pd"
   ]
  },
  {
   "cell_type": "code",
   "execution_count": 3,
   "id": "a7e69a6f-93bd-422b-be4a-1f808768c43c",
   "metadata": {
    "tags": []
   },
   "outputs": [],
   "source": [
    "start = time.time()\n",
    "if (torch.cuda.is_available()):\n",
    "    dev = \"cuda:0\"\n",
    "else:\n",
    "    dev = \"cpu\"\n",
    "device = torch.device(dev)"
   ]
  },
  {
   "cell_type": "code",
   "execution_count": 4,
   "id": "6436514b-cccc-4927-8862-02ada59dbbb7",
   "metadata": {
    "tags": []
   },
   "outputs": [],
   "source": [
    "fineSpringConstants = pd.read_csv(\"fineSpringParameters.csv\",header=None)"
   ]
  },
  {
   "cell_type": "code",
   "execution_count": 5,
   "id": "93e436af-f73b-4a52-b2ea-c8f3450d9686",
   "metadata": {
    "tags": []
   },
   "outputs": [],
   "source": [
    "timesteps = pd.read_csv(\"timesteps.csv\",header=None)"
   ]
  },
  {
   "cell_type": "code",
   "execution_count": 6,
   "id": "bd9a9e69-f011-4a39-861a-63d1524a0f17",
   "metadata": {
    "tags": []
   },
   "outputs": [],
   "source": [
    "coarseSpringConstants = np.arange(0.1,51.1,5)\n",
    "mediumSpringConstants = np.arange(0.1,51.1,1)"
   ]
  },
  {
   "cell_type": "code",
   "execution_count": 7,
   "id": "4a047376-00c4-4c42-b718-413998d855e3",
   "metadata": {
    "tags": []
   },
   "outputs": [],
   "source": [
    "fineDisplacements = pd.read_csv(\"fineDisplacements.csv\",header=None)"
   ]
  },
  {
   "cell_type": "code",
   "execution_count": 8,
   "id": "25436e30-d863-440d-bec9-ef2d74cd162c",
   "metadata": {
    "tags": []
   },
   "outputs": [],
   "source": [
    "fineDisplacements.set_index(fineSpringConstants.to_numpy().squeeze(),inplace=True)"
   ]
  },
  {
   "cell_type": "code",
   "execution_count": 9,
   "id": "5074394b-4c9e-4069-aa6a-fc2845bfc0a7",
   "metadata": {
    "tags": []
   },
   "outputs": [],
   "source": [
    "fineDisplacements.columns = timesteps.to_numpy().squeeze()"
   ]
  },
  {
   "cell_type": "code",
   "execution_count": 10,
   "id": "5c89ff3f-209a-4cf8-9a01-fc8574b8bdbf",
   "metadata": {
    "tags": []
   },
   "outputs": [],
   "source": [
    "coarseDisplacements = fineDisplacements.loc[coarseSpringConstants]"
   ]
  },
  {
   "cell_type": "code",
   "execution_count": 11,
   "id": "666817a4-ad21-4f68-8463-2ce0ed604cba",
   "metadata": {
    "tags": []
   },
   "outputs": [],
   "source": [
    "mediumDisplacements = fineDisplacements.loc[mediumSpringConstants]"
   ]
  },
  {
   "cell_type": "code",
   "execution_count": 12,
   "id": "2bab91d8-5195-46f7-82d7-7c60a88418bd",
   "metadata": {
    "tags": []
   },
   "outputs": [],
   "source": [
    "inputFeatures = np.meshgrid(timesteps, coarseSpringConstants)"
   ]
  },
  {
   "cell_type": "code",
   "execution_count": 13,
   "id": "2bfb3735-8ecb-40d1-9243-b4e0b16cd5ab",
   "metadata": {
    "tags": []
   },
   "outputs": [],
   "source": [
    "xt = np.stack((inputFeatures[1],inputFeatures[0]),axis=-1).reshape((-1,2))"
   ]
  },
  {
   "cell_type": "code",
   "execution_count": 14,
   "id": "f351d016-3a9f-4b3d-ad56-3b7928331c3d",
   "metadata": {
    "tags": []
   },
   "outputs": [
    {
     "data": {
      "text/plain": [
       "tensor([[ 0.1000,  0.0000],\n",
       "        [ 0.1000,  0.1000],\n",
       "        [ 0.1000,  0.2000],\n",
       "        ...,\n",
       "        [50.1000, 59.8000],\n",
       "        [50.1000, 59.9000],\n",
       "        [50.1000, 60.0000]], device='cuda:0', dtype=torch.float64)"
      ]
     },
     "execution_count": 14,
     "metadata": {},
     "output_type": "execute_result"
    }
   ],
   "source": [
    "train_x = torch.from_numpy(xt)\n",
    "train_x.to(device)"
   ]
  },
  {
   "cell_type": "code",
   "execution_count": 15,
   "id": "8d36b322-0773-4ca9-abde-a6597c881474",
   "metadata": {
    "tags": []
   },
   "outputs": [],
   "source": [
    "yt = coarseDisplacements.to_numpy().flatten()"
   ]
  },
  {
   "cell_type": "code",
   "execution_count": 16,
   "id": "1ca6b7b0-e149-4361-b652-5c7f5db51f97",
   "metadata": {
    "tags": []
   },
   "outputs": [
    {
     "data": {
      "text/plain": [
       "tensor([0.0000, 0.0050, 0.0197,  ..., 0.0200, 0.0200, 0.0200], device='cuda:0',\n",
       "       dtype=torch.float64)"
      ]
     },
     "execution_count": 16,
     "metadata": {},
     "output_type": "execute_result"
    }
   ],
   "source": [
    "train_y = torch.from_numpy(yt)\n",
    "train_y.to(device)"
   ]
  },
  {
   "cell_type": "code",
   "execution_count": 17,
   "id": "4e416036-a387-4d86-bae2-f012436aecd5",
   "metadata": {
    "tags": []
   },
   "outputs": [],
   "source": [
    "# We will use the simplest form of GP model, exact inference\n",
    "class ExactGPModel(gpytorch.models.ExactGP):\n",
    "    def __init__(self, train_x, train_y, likelihood):\n",
    "        super(ExactGPModel, self).__init__(train_x, train_y, likelihood)\n",
    "        self.mean_module = gpytorch.means.ConstantMean()\n",
    "        self.covar_module = gpytorch.kernels.ScaleKernel(gpytorch.kernels.RBFKernel())\n",
    "\n",
    "    def forward(self, x):\n",
    "        mean_x = self.mean_module(x)\n",
    "        covar_x = self.covar_module(x)\n",
    "        return gpytorch.distributions.MultivariateNormal(mean_x, covar_x)\n",
    "\n",
    "# initialize likelihood and model\n",
    "likelihood = gpytorch.likelihoods.GaussianLikelihood()\n",
    "#likelihood.to(device)\n",
    "model = ExactGPModel(train_x, train_y, likelihood)\n",
    "#model.to(device)"
   ]
  },
  {
   "cell_type": "code",
   "execution_count": 18,
   "id": "a390ff51-2b2c-4b40-9b93-40e3668b4392",
   "metadata": {
    "tags": []
   },
   "outputs": [
    {
     "name": "stdout",
     "output_type": "stream",
     "text": [
      "Iter 1/50 - Loss: 1.215   lengthscale: 0.693   noise: 0.693\n",
      "Iter 2/50 - Loss: 1.127   lengthscale: 0.744   noise: 0.644\n",
      "Iter 3/50 - Loss: 1.051   lengthscale: 0.798   noise: 0.598\n",
      "Iter 4/50 - Loss: 0.982   lengthscale: 0.853   noise: 0.554\n",
      "Iter 5/50 - Loss: 0.918   lengthscale: 0.910   noise: 0.513\n",
      "Iter 6/50 - Loss: 0.856   lengthscale: 0.969   noise: 0.474\n",
      "Iter 7/50 - Loss: 0.791   lengthscale: 1.029   noise: 0.437\n",
      "Iter 8/50 - Loss: 0.737   lengthscale: 1.090   noise: 0.402\n",
      "Iter 9/50 - Loss: 0.679   lengthscale: 1.151   noise: 0.370\n",
      "Iter 10/50 - Loss: 0.626   lengthscale: 1.214   noise: 0.340\n",
      "Iter 11/50 - Loss: 0.572   lengthscale: 1.276   noise: 0.311\n",
      "Iter 12/50 - Loss: 0.520   lengthscale: 1.339   noise: 0.285\n",
      "Iter 13/50 - Loss: 0.471   lengthscale: 1.402   noise: 0.261\n",
      "Iter 14/50 - Loss: 0.423   lengthscale: 1.465   noise: 0.238\n",
      "Iter 15/50 - Loss: 0.367   lengthscale: 1.527   noise: 0.217\n",
      "Iter 16/50 - Loss: 0.313   lengthscale: 1.590   noise: 0.198\n",
      "Iter 17/50 - Loss: 0.268   lengthscale: 1.652   noise: 0.180\n",
      "Iter 18/50 - Loss: 0.212   lengthscale: 1.714   noise: 0.164\n",
      "Iter 19/50 - Loss: 0.168   lengthscale: 1.775   noise: 0.148\n",
      "Iter 20/50 - Loss: 0.113   lengthscale: 1.836   noise: 0.135\n",
      "Iter 21/50 - Loss: 0.059   lengthscale: 1.896   noise: 0.122\n",
      "Iter 22/50 - Loss: 0.006   lengthscale: 1.956   noise: 0.111\n",
      "Iter 23/50 - Loss: -0.040   lengthscale: 2.016   noise: 0.100\n",
      "Iter 24/50 - Loss: -0.098   lengthscale: 2.075   noise: 0.091\n",
      "Iter 25/50 - Loss: -0.148   lengthscale: 2.134   noise: 0.082\n",
      "Iter 26/50 - Loss: -0.199   lengthscale: 2.193   noise: 0.074\n",
      "Iter 27/50 - Loss: -0.254   lengthscale: 2.252   noise: 0.067\n",
      "Iter 28/50 - Loss: -0.307   lengthscale: 2.310   noise: 0.060\n",
      "Iter 29/50 - Loss: -0.355   lengthscale: 2.368   noise: 0.054\n",
      "Iter 30/50 - Loss: -0.408   lengthscale: 2.427   noise: 0.049\n",
      "Iter 31/50 - Loss: -0.458   lengthscale: 2.486   noise: 0.044\n",
      "Iter 32/50 - Loss: -0.511   lengthscale: 2.547   noise: 0.040\n",
      "Iter 33/50 - Loss: -0.559   lengthscale: 2.609   noise: 0.036\n",
      "Iter 34/50 - Loss: -0.608   lengthscale: 2.671   noise: 0.032\n",
      "Iter 35/50 - Loss: -0.669   lengthscale: 2.736   noise: 0.029\n",
      "Iter 36/50 - Loss: -0.713   lengthscale: 2.803   noise: 0.026\n",
      "Iter 37/50 - Loss: -0.759   lengthscale: 2.872   noise: 0.024\n",
      "Iter 38/50 - Loss: -0.819   lengthscale: 2.945   noise: 0.021\n",
      "Iter 39/50 - Loss: -0.857   lengthscale: 3.019   noise: 0.019\n",
      "Iter 40/50 - Loss: -0.916   lengthscale: 3.097   noise: 0.017\n",
      "Iter 41/50 - Loss: -0.954   lengthscale: 3.177   noise: 0.016\n",
      "Iter 42/50 - Loss: -1.009   lengthscale: 3.258   noise: 0.014\n",
      "Iter 43/50 - Loss: -1.049   lengthscale: 3.341   noise: 0.013\n",
      "Iter 44/50 - Loss: -1.089   lengthscale: 3.425   noise: 0.011\n",
      "Iter 45/50 - Loss: -1.140   lengthscale: 3.512   noise: 0.010\n",
      "Iter 46/50 - Loss: -1.182   lengthscale: 3.599   noise: 0.009\n",
      "Iter 47/50 - Loss: -1.216   lengthscale: 3.687   noise: 0.008\n",
      "Iter 48/50 - Loss: -1.259   lengthscale: 3.778   noise: 0.008\n",
      "Iter 49/50 - Loss: -1.307   lengthscale: 3.871   noise: 0.007\n",
      "Iter 50/50 - Loss: -1.357   lengthscale: 3.965   noise: 0.006\n"
     ]
    }
   ],
   "source": [
    "# this is for running the notebook in our testing framework\n",
    "import os\n",
    "smoke_test = ('CI' in os.environ)\n",
    "training_iter = 2 if smoke_test else 50\n",
    "\n",
    "\n",
    "# Find optimal model hyperparameters\n",
    "model.train()\n",
    "likelihood.train()\n",
    "\n",
    "# Use the adam optimizer\n",
    "optimizer = torch.optim.Adam(model.parameters(), lr=0.1)  # Includes GaussianLikelihood parameters\n",
    "\n",
    "# \"Loss\" for GPs - the marginal log likelihood\n",
    "mll = gpytorch.mlls.ExactMarginalLogLikelihood(likelihood, model)\n",
    "\n",
    "for i in range(training_iter):\n",
    "    # Zero gradients from previous iteration\n",
    "    optimizer.zero_grad()\n",
    "    # Output from model\n",
    "    output = model(train_x)\n",
    "    # Calc loss and backprop gradients\n",
    "    loss = -mll(output, train_y)\n",
    "    loss.backward()\n",
    "    print('Iter %d/%d - Loss: %.3f   lengthscale: %.3f   noise: %.3f' % (\n",
    "        i + 1, training_iter, loss.item(),\n",
    "        model.covar_module.base_kernel.lengthscale.item(),\n",
    "        model.likelihood.noise.item()\n",
    "    ))\n",
    "    optimizer.step()"
   ]
  },
  {
   "cell_type": "code",
   "execution_count": 19,
   "id": "eb93a488-3f06-4cf3-810c-3d2d15cd818f",
   "metadata": {
    "tags": []
   },
   "outputs": [],
   "source": [
    "testFeatures = np.meshgrid(timesteps,mediumSpringConstants)"
   ]
  },
  {
   "cell_type": "code",
   "execution_count": 20,
   "id": "af3f9978-a90a-4ac0-a47c-9f56367d27d3",
   "metadata": {
    "tags": []
   },
   "outputs": [
    {
     "data": {
      "text/plain": [
       "tensor([[ 0.1000,  0.0000],\n",
       "        [ 0.1000,  0.1000],\n",
       "        [ 0.1000,  0.2000],\n",
       "        ...,\n",
       "        [50.1000, 59.8000],\n",
       "        [50.1000, 59.9000],\n",
       "        [50.1000, 60.0000]], device='cuda:0', dtype=torch.float64)"
      ]
     },
     "execution_count": 20,
     "metadata": {},
     "output_type": "execute_result"
    }
   ],
   "source": [
    "test_x = torch.from_numpy(np.stack((testFeatures[1],testFeatures[0]),axis=-1).reshape((-1,2)))\n",
    "test_x.to(device)"
   ]
  },
  {
   "cell_type": "code",
   "execution_count": 21,
   "id": "e1b2122d-768c-45fe-8c54-f61b83947ebe",
   "metadata": {
    "tags": []
   },
   "outputs": [],
   "source": [
    "# Get into evaluation (predictive posterior) mode\n",
    "model.eval()\n",
    "likelihood.eval()\n",
    "\n",
    "# Make predictions by feeding model through likelihood\n",
    "with torch.no_grad(): #gpytorch.settings.fast_pred_var():\n",
    "    #test_x = torch.linspace(0, 1, 51)\n",
    "    observed_pred = likelihood(model(test_x))"
   ]
  },
  {
   "cell_type": "code",
   "execution_count": 22,
   "id": "0e467f97-4615-4e90-999b-043a365805ef",
   "metadata": {
    "tags": []
   },
   "outputs": [
    {
     "name": "stdout",
     "output_type": "stream",
     "text": [
      "Time elapsed -1556.8863773345947\n"
     ]
    }
   ],
   "source": [
    "end = time.time()\n",
    "print(\"Time elapsed\",start-end)"
   ]
  },
  {
   "cell_type": "code",
   "execution_count": 49,
   "id": "71b973f8-a9b6-4887-a54b-1496bdbd40fd",
   "metadata": {
    "tags": []
   },
   "outputs": [
    {
     "data": {
      "image/png": "[encoded data removed]",
      "text/plain": [
       "<Figure size 640x480 with 2 Axes>"
      ]
     },
     "metadata": {},
     "output_type": "display_data"
    }
   ],
   "source": [
    "with torch.no_grad():\n",
    "    \n",
    "    fig, ax = plt.subplots(subplot_kw={\"projection\": \"3d\"})\n",
    "    #fig = plt.figure()\n",
    "    #ax = Axes3D(fig)\n",
    "    surf = ax.plot_trisurf(test_x[0:,0].numpy(), test_x[0:,1].numpy(),observed_pred.mean.numpy(), cmap=cm.coolwarm,\n",
    "                       linewidth=0, antialiased=False)\n",
    "    #plt.imshow(z)\n",
    "    # Add a color bar which maps values to colors.\n",
    "    fig.colorbar(surf, shrink=0.5, aspect=5)\n",
    "    # Get upper and lower confidence bounds\n",
    "    lower, upper = observed_pred.confidence_region()\n",
    "    # Plot training data as black stars\n",
    "    ax.scatter(train_x[0:,0].numpy(),train_x[0:,1].numpy(), train_y.numpy(), 'k*')\n",
    "    # Plot predictive means as blue line\n",
    "    #ax.plot(test_x.numpy(), observed_pred.mean.numpy(), 'b')\n",
    "    # Shade between the lower and upper confidence bounds\n",
    "    #ax.fill_between(test_x.numpy(), lower.numpy(), upper.numpy(), alpha=0.5)\n",
    "    #ax.set_ylim([-3, 3])\n",
    "    ax.legend([ 'Mean','Observed Data'])\n",
    "    plt.show()\n",
    "    "
   ]
  },
  {
   "cell_type": "code",
   "execution_count": 48,
   "id": "8a09b390-b143-453b-9e31-49b341aee5ad",
   "metadata": {
    "tags": []
   },
   "outputs": [],
   "source": []
  },
  {
   "cell_type": "code",
   "execution_count": 42,
   "id": "d7dfb256-d6a3-4504-8da7-cffaf2493575",
   "metadata": {
    "tags": []
   },
   "outputs": [
    {
     "data": {
      "text/plain": [
       "array([ 0.1,  0.1,  0.1, ..., 50.1, 50.1, 50.1])"
      ]
     },
     "execution_count": 42,
     "metadata": {},
     "output_type": "execute_result"
    }
   ],
   "source": []
  },
  {
   "cell_type": "code",
   "execution_count": null,
   "id": "79adb243-3f5b-49bd-ac57-9980db24715b",
   "metadata": {},
   "outputs": [],
   "source": []
  }
 ],
 "metadata": {
  "kernelspec": {
   "display_name": "kriging",
   "language": "python",
   "name": "kriging"
  },
  "language_info": {
   "codemirror_mode": {
    "name": "ipython",
    "version": 3
   },
   "file_extension": ".py",
   "mimetype": "text/x-python",
   "name": "python",
   "nbconvert_exporter": "python",
   "pygments_lexer": "ipython3",
   "version": "3.9.18"
  }
 },
 "nbformat": 4,
 "nbformat_minor": 5
}
